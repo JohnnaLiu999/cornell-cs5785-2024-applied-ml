{
 "cells": [
  {
   "cell_type": "markdown",
   "metadata": {
    "colab_type": "text",
    "id": "i_f5u2x9nn6I",
    "slideshow": {
     "slide_type": "slide"
    }
   },
   "source": [
    "<left><img width=25% src=\"../slides/img/cornell_tech2.svg\"></left>\n",
    "\n",
    "# Lecture 16: Boosting"
   ]
  },
  {
   "cell_type": "markdown",
   "metadata": {
    "slideshow": {
     "slide_type": "subslide"
    }
   },
   "source": [
    "In this lecture, we will cover a new class of machine learning algorithms based on an idea called **Boosting**.\n",
    "Boosting is an effective way to combine the predictions from simple models into more complex and powerful ones that often attain state-of-the-art performance on many machine learning competitions and benchmarks."
   ]
  },
  {
   "cell_type": "markdown",
   "metadata": {
    "slideshow": {
     "slide_type": "slide"
    }
   },
   "source": [
    "# 16.1. Defining Boosting\n",
    "\n",
    "We will begin by defining boosting and seeing how this concept relates to our previous lectures about bagging, which we saw in the context of random forests and decision trees."
   ]
  },
  {
   "cell_type": "markdown",
   "metadata": {
    "slideshow": {
     "slide_type": "slide"
    }
   },
   "source": [
    "#### Review: Overfitting\n",
    "\n",
    "Recall that we saw in our lecture on decision trees and random forests that a common machine learning failure mode is that of overfitting:\n",
    "\n",
    "* A very expressive model (e.g., a high degree polynomial) fits the training dataset perfectly.\n",
    "* The model also makes wildly incorrect prediction outside this dataset and doesn't generalize."
   ]
  },
  {
   "cell_type": "markdown",
   "metadata": {
    "slideshow": {
     "slide_type": "slide"
    }
   },
   "source": [
    "#### Review: Bagging\n",
    "\n",
    "The idea of *bagging* was to reduce *overfitting* by averaging many models trained on random subsets of the data.\n",
    "\n",
    "```python\n",
    "for i in range(n_models):\n",
    "    # collect data samples and fit models\n",
    "    X_i, y_i = sample_with_replacement(X, y, n_samples)\n",
    "    model = Model().fit(X_i, y_i)\n",
    "    ensemble.append(model)\n",
    "\n",
    "# output average prediction at test time:\n",
    "y_test = ensemble.average_prediction(y_test)\n",
    "```"
   ]
  },
  {
   "cell_type": "markdown",
   "metadata": {
    "slideshow": {
     "slide_type": "slide"
    }
   },
   "source": [
    "## 16.1.1. Underfitting and Boosting\n",
    "\n",
    "Underfitting is another common problem in machine learning that can be thought of as the converse to _overfitting_.\n",
    "* The model is too simple to fit the data well (e.g., approximating a high degree polynomial with linear regression).\n",
    "* As a result, the model is not accurate on training data and is not accurate on new data."
   ]
  },
  {
   "cell_type": "markdown",
   "metadata": {
    "slideshow": {
     "slide_type": "slide"
    }
   },
   "source": [
    "#### Boosting\n",
    "\n",
    "The idea of *boosting* is to reduce *underfitting* by combining models that correct each others' errors."
   ]
  },
  {
   "cell_type": "markdown",
   "metadata": {
    "slideshow": {
     "slide_type": "fragment"
    }
   },
   "source": [
    "* As in bagging, we combine many models $g_t$ into one *ensemble* $f$."
   ]
  },
  {
   "cell_type": "markdown",
   "metadata": {
    "slideshow": {
     "slide_type": "fragment"
    }
   },
   "source": [
    "* Unlike bagging, the $g_t$ are small and tend to underfit."
   ]
  },
  {
   "cell_type": "markdown",
   "metadata": {
    "slideshow": {
     "slide_type": "fragment"
    }
   },
   "source": [
    "* Each $g_t$ fits the points where the previous models made errors."
   ]
  },
  {
   "cell_type": "markdown",
   "metadata": {
    "slideshow": {
     "slide_type": "slide"
    }
   },
   "source": [
    "#### Weak Learners\n",
    "\n",
    "A key ingredient of a boosting algorithm is a *weak learner*.\n",
    "\n",
    "* Intuitively, this is a model that is slightly better than random.\n",
    "* Examples of weak learners include: small linear models, small decision trees (e.g., depth 1 or 2)."
   ]
  },
  {
   "cell_type": "markdown",
   "metadata": {
    "slideshow": {
     "slide_type": "slide"
    }
   },
   "source": [
    "# 16.2. Structure of a Boosting Algorithm\n",
    "Let's now move towards more fully describing the structure of a boosting algorithm."
   ]
  },
  {
   "cell_type": "markdown",
   "metadata": {
    "slideshow": {
     "slide_type": "fragment"
    }
   },
   "source": [
    "**Step 1:** Fit a weak learner $g_0$ on dataset $\\mathcal{D} = \\{(x^{(i)}, y^{(i)})\\}$. Let $f=g_0$."
   ]
  },
  {
   "cell_type": "markdown",
   "metadata": {
    "slideshow": {
     "slide_type": "fragment"
    }
   },
   "source": [
    "**Step 2:** Compute weights $w^{(i)}$ for each $i$ based on model predictions $f(x^{(i)})$ and targets $y^{(i)}$.\n",
    "Give more weight to points with errors."
   ]
  },
  {
   "cell_type": "markdown",
   "metadata": {
    "slideshow": {
     "slide_type": "fragment"
    }
   },
   "source": [
    "**Step 3:** Fit another weak learner $g_1$ on $\\mathcal{D} = \\{(x^{(i)}, y^{(i)})\\}$ with weights $w^{(i)}$, which place more emphasis on the points on which the existing model is less accurate."
   ]
  },
  {
   "cell_type": "markdown",
   "metadata": {
    "slideshow": {
     "slide_type": "fragment"
    }
   },
   "source": [
    "**Step 4:** Set $f_1 = g_0 + \\alpha_1 g$ for some weight $\\alpha_1$. Go to Step 2 and repeat."
   ]
  },
  {
   "cell_type": "markdown",
   "metadata": {
    "slideshow": {
     "slide_type": "fragment"
    }
   },
   "source": [
    "At each step, $f_t$ becomes more expressive since it is the sum of a larger number of weak learners that are each accurate on a different subset of the data."
   ]
  },
  {
   "cell_type": "markdown",
   "metadata": {
    "slideshow": {
     "slide_type": "subslide"
    }
   },
   "source": [
    "In Python-like pseudocode, this looks as follows:\n",
    "\n",
    "```python\n",
    "weights, ensemble = np.ones(n_data,), Ensemble([])\n",
    "for i in range(n_models):\n",
    "    model = SimpleBaseModel().fit(X, y, weights)\n",
    "    predictions = ensemble.predict(X)\n",
    "    model_weight, weights = update_weights(weights, predictions)\n",
    "    ensemble.add(model, model_weight)\n",
    "\n",
    "# output consensus prediction at test time:\n",
    "y_test = ensemble.predict(y_test)\n",
    "```"
   ]
  },
  {
   "cell_type": "markdown",
   "metadata": {
    "slideshow": {
     "slide_type": "slide"
    }
   },
   "source": [
    "# 16.3. Adaboost\n",
    "\n",
    "Given its historical importance, we begin with an introduction of Adaboost and use it to further illustrate the structure of boosting algorithms in general.\n",
    "\n",
    "* __Type__: Supervised learning (classification).\n",
    "* __Model family__: Ensembles of weak learners (often decision trees).\n",
    "* __Objective function__: Exponential loss.\n",
    "* __Optimizer__: Forward stagewise additive model building (to be defined in more detail below)."
   ]
  },
  {
   "cell_type": "markdown",
   "metadata": {
    "slideshow": {
     "slide_type": "slide"
    }
   },
   "source": [
    "An interesting historical note, boosting algorithms were initially developed in the 90s within theoretical machine learning.\n",
    "\n",
    "* Originally, boosting addressed a theoretical question of whether weak learners with >50% accuracy can be combined to form a strong learner.\n",
    "* Eventually, this research led to a practical algorithm called *Adaboost*.\n",
    "\n",
    "Today, there exist many algorithms that are considered types of boosting, even though they're not derived from the perspective of theoretical ML."
   ]
  },
  {
   "cell_type": "markdown",
   "metadata": {
    "slideshow": {
     "slide_type": "slide"
    }
   },
   "source": [
    "## 16.3.1. Defining Adaboost\n",
    "\n",
    "We start with uniform weights $w^{(i)} = 1/n$ and $f = 0$. Then for $t=1,2,...,T$:"
   ]
  },
  {
   "cell_type": "markdown",
   "metadata": {
    "slideshow": {
     "slide_type": "fragment"
    }
   },
   "source": [
    "**Step 1:** Fit weak learner $g_t$ on $\\mathcal{D}$ with weights $w^{(i)}$."
   ]
  },
  {
   "cell_type": "markdown",
   "metadata": {
    "slideshow": {
     "slide_type": "fragment"
    }
   },
   "source": [
    "**Step 2:** Compute misclassification error\n",
    "$$e_t = \\frac{\\sum_{i=1}^n w^{(i)} \\mathbb{I}\\{y^{(i)} \\neq g_t(x^{(i)})\\}}{\\sum_{i=1}^n w^{(i)}}$$\n",
    "\n",
    "* Recall that $\\mathbb{I}\\{\\cdot\\}$ is an indicator function that takes on value 1 when the condition in the brackets is true and 0 otherwise.\n",
    " \n",
    "* Notice that if all the weights $w^{(i)}$ are the same, then this is just the misclassification rate.\n",
    "When each weight can be different, we get a \"weighted\" misclassification error."
   ]
  },
  {
   "cell_type": "markdown",
   "metadata": {
    "slideshow": {
     "slide_type": "fragment"
    }
   },
   "source": [
    "**Step 3:** Compute model weight and update function.\n",
    "\n",
    "$$\\alpha_t = \\log[(1-e_t)/e_t]$$\n",
    "$$f \\gets f + \\alpha_t g_t$$\n",
    "\n",
    "\n",
    "* Notice that $e_t$ intuitively measures how much *influence* $g_t$ should have on our overall predictor $f$.\n",
    "As $e_t$ approaches zero, meaning few of the highly weighted points were misclassified by $g_t$, $\\alpha_t$ will be large, allowing $g_t$ to have a bigger contribution to our predictor.\n",
    "As $e_t$ approaches 1/2 (recall that $g_t$'s are 'weak learners'), this means that $g_t$ is not doing much better than random guessing.\n",
    "This will cause $\\alpha_t$ to be close to zero, meaning that $g_t$ is contributing little to our overall prediction function."
   ]
  },
  {
   "cell_type": "markdown",
   "metadata": {
    "slideshow": {
     "slide_type": "fragment"
    }
   },
   "source": [
    "**Step 4:** Compute new data weights $w^{(i)} \\gets w^{(i)}\\exp[\\alpha_t \\mathbb{I}\\{y^{(i)} \\neq f(x^{(i)})\\} ]$.\n",
    "\n",
    "* Exponentiation ensures that all the weights are positive.\n",
    "* If our predictor correctly classifies a point, its weight $w^{(i)}$ does not change.\n",
    "* Any point that is misclassified by $f$ has its weight increased.\n",
    "* We again use $\\alpha_t$ here, as above, to mediate how strongly we adjust weights."
   ]
  },
  {
   "cell_type": "markdown",
   "metadata": {
    "slideshow": {
     "slide_type": "subslide"
    }
   },
   "source": [
    "## 16.3.2. Adaboost: An Example\n",
    "\n",
    "Let's implement Adaboost on a simple dataset to see what it can do."
   ]
  },
  {
   "cell_type": "markdown",
   "metadata": {
    "slideshow": {
     "slide_type": "subslide"
    }
   },
   "source": [
    "Let's start by creating a classification dataset.\n",
    "We will intentionally create a 2D dataset where the classes are not easily separable."
   ]
  },
  {
   "cell_type": "code",
   "execution_count": 1,
   "metadata": {
    "slideshow": {
     "slide_type": "fragment"
    }
   },
   "outputs": [],
   "source": [
    "# https://scikit-learn.org/stable/auto_examples/ensemble/plot_adaboost_twoclass.html\n",
    "import numpy as np\n",
    "from sklearn.datasets import make_gaussian_quantiles\n",
    "\n",
    "# Construct dataset\n",
    "X1, y1 = make_gaussian_quantiles(cov=2., n_samples=200, n_features=2, n_classes=2, random_state=1)\n",
    "X2, y2 = make_gaussian_quantiles(mean=(3, 3), cov=1.5, n_samples=300, n_features=2, n_classes=2, random_state=1)\n",
    "X = np.concatenate((X1, X2))\n",
    "y = np.concatenate((y1, - y2 + 1))"
   ]
  },
  {
   "cell_type": "markdown",
   "metadata": {
    "slideshow": {
     "slide_type": "subslide"
    }
   },
   "source": [
    "We can visualize this dataset using `matplotlib`."
   ]
  },
  {
   "cell_type": "code",
   "execution_count": 2,
   "metadata": {
    "slideshow": {
     "slide_type": "fragment"
    }
   },
   "outputs": [
    {
     "data": {
      "image/png": "[encoded data removed]",
      "text/plain": [
       "<Figure size 864x288 with 1 Axes>"
      ]
     },
     "metadata": {
      "needs_background": "light"
     },
     "output_type": "display_data"
    }
   ],
   "source": [
    "import matplotlib.pyplot as plt\n",
    "plt.rcParams['figure.figsize'] = [12, 4]\n",
    "\n",
    "# Plot the training points\n",
    "plot_colors, plot_step, class_names = \"br\", 0.02, \"AB\"\n",
    "x_min, x_max = X[:, 0].min() - 1, X[:, 0].max() + 1\n",
    "y_min, y_max = X[:, 1].min() - 1, X[:, 1].max() + 1\n",
    "\n",
    "for i, n, c in zip(range(2), class_names, plot_colors):\n",
    "    idx = np.where(y == i)\n",
    "    plt.scatter(X[idx, 0], X[idx, 1], cmap=plt.cm.Paired, s=60, edgecolor='k', label=\"Class %s\" % n)\n",
    "plt.xlim(x_min, x_max)\n",
    "plt.ylim(y_min, y_max)\n",
    "plt.legend(loc='upper right');"
   ]
  },
  {
   "cell_type": "markdown",
   "metadata": {
    "slideshow": {
     "slide_type": "subslide"
    }
   },
   "source": [
    "Let's now train Adaboost on this dataset.\n",
    "We use the `AdaBoostClassifier` class from `sklearn`."
   ]
  },
  {
   "cell_type": "code",
   "execution_count": 3,
   "metadata": {
    "slideshow": {
     "slide_type": "fragment"
    }
   },
   "outputs": [
    {
     "data": {
      "text/plain": [
       "AdaBoostClassifier(algorithm='SAMME',\n",
       "                   base_estimator=DecisionTreeClassifier(max_depth=1),\n",
       "                   n_estimators=200)"
      ]
     },
     "execution_count": 3,
     "metadata": {},
     "output_type": "execute_result"
    }
   ],
   "source": [
    "from sklearn.ensemble import AdaBoostClassifier\n",
    "from sklearn.tree import DecisionTreeClassifier\n",
    "\n",
    "# Create and fit an AdaBoosted decision tree\n",
    "bdt = AdaBoostClassifier(DecisionTreeClassifier(max_depth=1),\n",
    "                         algorithm=\"SAMME\",\n",
    "                         n_estimators=200)\n",
    "bdt.fit(X, y)"
   ]
  },
  {
   "cell_type": "markdown",
   "metadata": {
    "slideshow": {
     "slide_type": "subslide"
    }
   },
   "source": [
    "Visualizing the output of the algorithm, we see that it can learn a highly non-linear decision boundary to separate the two classes."
   ]
  },
  {
   "cell_type": "code",
   "execution_count": 4,
   "metadata": {
    "slideshow": {
     "slide_type": "fragment"
    }
   },
   "outputs": [
    {
     "data": {
      "image/png": "[encoded data removed]",
      "text/plain": [
       "<Figure size 864x288 with 1 Axes>"
      ]
     },
     "metadata": {
      "needs_background": "light"
     },
     "output_type": "display_data"
    }
   ],
   "source": [
    "xx, yy = np.meshgrid(np.arange(x_min, x_max, plot_step), np.arange(y_min, y_max, plot_step))\n",
    "\n",
    "# plot decision boundary\n",
    "Z = bdt.predict(np.c_[xx.ravel(), yy.ravel()])\n",
    "Z = Z.reshape(xx.shape)\n",
    "cs = plt.contourf(xx, yy, Z, cmap=plt.cm.Paired)\n",
    "\n",
    "# plot training points\n",
    "for i, n, c in zip(range(2), class_names, plot_colors):\n",
    "    idx = np.where(y == i)\n",
    "    plt.scatter(X[idx, 0], X[idx, 1], cmap=plt.cm.Paired, s=60, edgecolor='k', label=\"Class %s\" % n)\n",
    "plt.xlim(x_min, x_max)\n",
    "plt.ylim(y_min, y_max)\n",
    "plt.legend(loc='upper right');"
   ]
  },
  {
   "cell_type": "markdown",
   "metadata": {
    "slideshow": {
     "slide_type": "slide"
    }
   },
   "source": [
    "# 16.4. Ensembling\n",
    "\n",
    "Boosting and bagging are special cases of *ensembling*.\n",
    "\n",
    "The idea of ensembling is to combine many models into one. Bagging and boosting are ensembling techniques to reduce over- and under-fitting, respectively."
   ]
  },
  {
   "cell_type": "markdown",
   "metadata": {
    "slideshow": {
     "slide_type": "subslide"
    }
   },
   "source": [
    "There are other approaches to ensembling that are useful to know about.\n",
    "* In stacking, we train $m$ independent models $g_j(x)$ (possibly from different model classes) and then train another model $f(x)$ to predict $y$ from the outputs of $g_j$.\n",
    "* The Bayesian approach can also be seen as form of ensembling\n",
    "$$P(y\\mid x) = \\int_\\theta P(y\\mid x,\\theta) P(\\theta \\mid \\mathcal{D}) d\\theta$$\n",
    "where we average models $P(y\\mid x,\\theta)$ using weights $P(\\theta \\mid \\mathcal{D})$."
   ]
  },
  {
   "cell_type": "markdown",
   "metadata": {
    "slideshow": {
     "slide_type": "slide"
    }
   },
   "source": [
    "Ensembling is a useful technique in machine learning, as it often helps squeeze out additional performance out of ML algorithms, however this comes at the cost of additional (potentially quite expensive) computation to train and use ensembles.\n",
    "\n",
    "As we have seen with Adaboost, boosting algorithms are a form of ensembling that yield high accuracy via a highly expressive non-linear model family. If trees are used as weak learners, then we also have the added benefit of requiring little to no preprocessing. However, as we saw with the random forest algorithm, with boosting, the interpretability of the weak learners is lost."
   ]
  },
  {
   "cell_type": "markdown",
   "metadata": {
    "slideshow": {
     "slide_type": "slide"
    }
   },
   "source": [
    "## 16.4.1. Bagging vs. Boosting\n",
    "We conclude this initial introduction to boosting by contrasting it to the bagging approach we saw previously.\n",
    "While both concepts refer to methods for combining the outputs of various models trained on the same dataset, there are important distinctions between these concepts.\n",
    "* Bagging targets **overfitting** vs. boosting targets **underfitting**.\n",
    "* Bagging is a **parallelizable** method for combining models (e.g., each tree in the random forest can be learned in parallel) vs. boosting is an inherently **sequential** way to combine models."
   ]
  },
  {
   "cell_type": "markdown",
   "metadata": {
    "slideshow": {
     "slide_type": "slide"
    }
   },
   "source": [
    "# 16.5. Additive Models\n",
    "\n",
    "Next, we are going to see another perspective on boosting and derive new boosting algorithms."
   ]
  },
  {
   "cell_type": "markdown",
   "metadata": {
    "slideshow": {
     "slide_type": "slide"
    }
   },
   "source": [
    "Boosting can be seen as a way of fitting more general *additive models*:\n",
    "$$ f(x) = \\sum_{t=1}^T \\alpha_t g(x; \\phi_t). $$"
   ]
  },
  {
   "cell_type": "markdown",
   "metadata": {
    "slideshow": {
     "slide_type": "fragment"
    }
   },
   "source": [
    "* The main model $f(x)$ consists of $T$ smaller models $g$ with weights $\\alpha_t$ and parameters $\\phi_t$."
   ]
  },
  {
   "cell_type": "markdown",
   "metadata": {
    "slideshow": {
     "slide_type": "fragment"
    }
   },
   "source": [
    "* The parameters are the $\\alpha_t$ plus the parameters $\\phi_t$ of each $g$."
   ]
  },
  {
   "cell_type": "markdown",
   "metadata": {
    "slideshow": {
     "slide_type": "fragment"
    }
   },
   "source": [
    "Additive models are more general than a linear model, because $g$ can be non-linear in $\\phi_t$ (therefore so is $f$)."
   ]
  },
  {
   "cell_type": "markdown",
   "metadata": {
    "slideshow": {
     "slide_type": "fragment"
    }
   },
   "source": [
    "Boosting is a specific approach to training additive models.\n",
    "We will see a more general approach below."
   ]
  },
  {
   "cell_type": "markdown",
   "metadata": {
    "slideshow": {
     "slide_type": "slide"
    }
   },
   "source": [
    "## 16.5.1. Forward Stagewise Additive Modeling\n",
    "\n",
    "A general way to fit additive models is the forward stagewise approach."
   ]
  },
  {
   "cell_type": "markdown",
   "metadata": {
    "slideshow": {
     "slide_type": "fragment"
    }
   },
   "source": [
    "* Suppose we have a loss $L : \\mathcal{Y} \\times \\mathcal{Y} \\to [0, \\infty)$."
   ]
  },
  {
   "cell_type": "markdown",
   "metadata": {
    "slideshow": {
     "slide_type": "fragment"
    }
   },
   "source": [
    "* Start with\n",
    "$$f_0 = \\arg \\min_\\phi \\sum_{i=1}^n L(y^{(i)}, g(x^{(i)}; \\phi))$$"
   ]
  },
  {
   "cell_type": "markdown",
   "metadata": {
    "slideshow": {
     "slide_type": "fragment"
    }
   },
   "source": [
    "* At each iteration $t$ we fit the best addition to the current model.\n",
    "$$ \\alpha_t, \\phi_t = \\arg\\min_{\\alpha, \\phi} \\sum_{i=1}^n L(y^{(i)}, f_{t-1}(x^{(i)}) + \\alpha g(x^{(i)}; \\phi))$$\n",
    " * Note that each step $f_{t-1}$ is fixed, and we are only optimizing over the weight $\\alpha_t$ and the new model parameters $\\phi_t$.\n",
    " This helps keep the optimization process tractable."
   ]
  },
  {
   "cell_type": "markdown",
   "metadata": {
    "slideshow": {
     "slide_type": "slide"
    }
   },
   "source": [
    "We note some practical considerations in forward stagewise additive modeling:\n",
    "* Popular choices of $g$ include cubic splines, decision trees, and kernelized models.\n",
    "* We may use a fixed number of iterations $T$ or early stopping when the error on a hold-out set no longer improves.\n",
    "* An important design choice is the loss $L$."
   ]
  },
  {
   "cell_type": "markdown",
   "metadata": {
    "slideshow": {
     "slide_type": "slide"
    }
   },
   "source": [
    "## 16.5.2. Losses in Additive Models\n",
    "We will now cover the various types of losses used in additive models and the implications of these different choices."
   ]
  },
  {
   "cell_type": "markdown",
   "metadata": {
    "slideshow": {
     "slide_type": "slide"
    }
   },
   "source": [
    "### 16.5.2.1. Exponential Loss\n",
    "\n",
    "We start with the exponential loss.\n",
    "Give a binary classification problem with labels $\\mathcal{Y} = \\{-1, +1\\}$, the exponential loss is defined as\n",
    "\n",
    "$$ L(y, f) = \\exp(-y \\cdot f). $$\n",
    "\n",
    "* When $y=1$, $L$ is small when $f \\to \\infty$.\n",
    "* When $y=-1$, $L$ is small when $f \\to - \\infty$."
   ]
  },
  {
   "cell_type": "markdown",
   "metadata": {
    "slideshow": {
     "slide_type": "subslide"
    }
   },
   "source": [
    "Let's visualize the exponential loss and compare it to other losses."
   ]
  },
  {
   "cell_type": "code",
   "execution_count": 5,
   "metadata": {
    "slideshow": {
     "slide_type": "fragment"
    }
   },
   "outputs": [
    {
     "data": {
      "image/png": "[encoded data removed]",
      "text/plain": [
       "<Figure size 864x288 with 4 Axes>"
      ]
     },
     "metadata": {
      "needs_background": "light"
     },
     "output_type": "display_data"
    }
   ],
   "source": [
    "from matplotlib import pyplot as plt\n",
    "import numpy as np\n",
    "plt.rcParams['figure.figsize'] = [12, 4]\n",
    "\n",
    "# define the losses for a target of y=1\n",
    "losses = {\n",
    "    'Hinge' : lambda f: np.maximum(1 - f, 0),\n",
    "    'L2': lambda f: (1-f)**2,\n",
    "    'L1': lambda f: np.abs(f-1),\n",
    "    'Exponential': lambda f: np.exp(-f)\n",
    "}\n",
    "\n",
    "# plot them\n",
    "f = np.linspace(0, 2)\n",
    "fig, axes = plt.subplots(2,2)\n",
    "for ax, (name, loss) in zip(axes.flatten(), losses.items()):\n",
    "    ax.plot(f, loss(f))\n",
    "    ax.set_title('%s Loss' % name)\n",
    "    ax.set_xlabel('Prediction f')\n",
    "    ax.set_ylabel('L(y=1,f)')\n",
    "plt.tight_layout()"
   ]
  },
  {
   "cell_type": "markdown",
   "metadata": {
    "slideshow": {
     "slide_type": "fragment"
    }
   },
   "source": [
    "Notice that the exponential loss very heavily penalizes (i.e., exponentially) misclassified points.\n",
    "This could potentially be an issue in the presence of outliers or if we have some 'noise' in the labeling process, e.g., points were originally classified by a human annotator with imperfect labeling."
   ]
  },
  {
   "cell_type": "markdown",
   "metadata": {
    "slideshow": {
     "slide_type": "slide"
    }
   },
   "source": [
    "#### Special Case: Adaboost\n",
    "\n",
    "Adaboost is an instance of forward stagewise additive modeling with the exponential loss."
   ]
  },
  {
   "cell_type": "markdown",
   "metadata": {
    "slideshow": {
     "slide_type": "fragment"
    }
   },
   "source": [
    "At each step $t,$ we minimize\n",
    "$$L_t = \\sum_{i=1}^n e^{-y^{(i)}(f_{t-1}(x^{(i)}) + \\alpha g(x^{(i)}; \\phi))} = \\sum_{i=1}^n w^{(i)} \\exp\\left(-y^{(i)}\\alpha g(x^{(i)}; \\phi)\\right) $$\n",
    "with $w^{(i)} = \\exp(-y^{(i)}f_{t-1}(x^{(i)}))$.\n",
    "\n",
    "We can derive the Adaboost update rules from this equation."
   ]
  },
  {
   "cell_type": "markdown",
   "metadata": {
    "slideshow": {
     "slide_type": "subslide"
    }
   },
   "source": [
    "Suppose that $g(y; \\phi) \\in \\{-1,1\\}$. With a bit of algebraic manipulations, we get that:\n",
    "\\begin{align*}\n",
    "L_t & = e^{\\alpha} \\sum_{y^{(i)} \\neq g(x^{(i)})} w^{(i)} + e^{-\\alpha} \\sum_{y^{(i)} = g(x^{(i)})} w^{(i)} \\\\\n",
    "& = (e^{\\alpha} - e^{-\\alpha}) \\sum_{i=1}^n w^{(i)} \\mathbb{I}\\{{y^{(i)} \\neq g(x^{(i)})}\\} + e^{-\\alpha} \\sum_{i=1}^n w^{(i)}.\\\\\n",
    "\\end{align*}\n",
    "where $\\mathbb{I}\\{\\cdot\\}$ is the indicator function."
   ]
  },
  {
   "cell_type": "markdown",
   "metadata": {
    "slideshow": {
     "slide_type": "subslide"
    }
   },
   "source": [
    "From there, we get that:\n",
    "\\begin{align*}\n",
    "\\phi_t & = \\arg\\min_{\\phi} \\sum_{i=1}^n w^{(i)} \\mathbb{I}\\{{y^{(i)} \\neq g(x^{(i)}; \\phi)}\\} \\\\\n",
    "\\alpha_t & = \\log[(1-e_t)/e_t]\n",
    "\\end{align*}\n",
    "where $e_t = \\frac{\\sum_{i=1}^n w^{(i)} \\mathbb{I}\\{y^{(i)} \\neq f(x^{(i)})\\}}{\\sum_{i=1}^n w^{(i)}\\}}$.\n",
    "\n",
    "These are update rules for Adaboost, and it's not hard to show that the update rule for $w^{(i)}$ is the same as well."
   ]
  },
  {
   "cell_type": "markdown",
   "metadata": {
    "slideshow": {
     "slide_type": "slide"
    }
   },
   "source": [
    "### 16.5.2.2. Squared Loss\n",
    "\n",
    "Another popular choice of loss is the squared loss, which allows us to derive a principled boosting algorithm for regression (as opposed to the exponential loss which can be used for classification).\n",
    "We define the squared loss as:\n",
    "$$ L(y, f) = (y-f)^2. $$"
   ]
  },
  {
   "cell_type": "markdown",
   "metadata": {
    "slideshow": {
     "slide_type": "fragment"
    }
   },
   "source": [
    "The resulting algorithm is often called L2Boost.\n",
    "At step $t,$ we minimize\n",
    "$$\\sum_{i=1}^n (r^{(i)}_t - g(x^{(i)}; \\phi))^2, $$\n",
    "where $r^{(i)}_t = y^{(i)} - f(x^{(i)})_{t-1}$ is the residual from the model at time $t-1$."
   ]
  },
  {
   "cell_type": "markdown",
   "metadata": {
    "slideshow": {
     "slide_type": "slide"
    }
   },
   "source": [
    "### 16.5.2.3. Logistic Loss\n",
    "\n",
    "Another common loss is the logistic loss.\n",
    "When $\\mathcal{Y}=\\{-1,1\\}$ it is defined as:\n",
    "\n",
    "$$L(y, f) = \\log(1+\\exp(-2\\cdot y\\cdot f)).$$\n",
    "\n",
    "This looks like the log of the exponential loss; it is less sensitive to outliers since it doesn't penalize large errors as much."
   ]
  },
  {
   "cell_type": "markdown",
   "metadata": {
    "slideshow": {
     "slide_type": "subslide"
    }
   },
   "source": [
    "In the context of boosting, we minimize\n",
    "$$J(\\alpha, \\phi) = \\sum_{i=1}^n \\log\\left(1+\\exp\\left(-2y^{(i)}(f_{t-1}(x^{(i)}) + \\alpha g(x^{(i)}; \\phi)\\right)\\right).$$"
   ]
  },
  {
   "cell_type": "markdown",
   "metadata": {
    "slideshow": {
     "slide_type": "fragment"
    }
   },
   "source": [
    "This gives a different weight update compared to Adabost. This algorithm is called LogitBoost."
   ]
  },
  {
   "cell_type": "markdown",
   "metadata": {
    "slideshow": {
     "slide_type": "subslide"
    }
   },
   "source": [
    "Let's plot some of these new losses as we did before."
   ]
  },
  {
   "cell_type": "code",
   "execution_count": 6,
   "metadata": {
    "slideshow": {
     "slide_type": "fragment"
    }
   },
   "outputs": [
    {
     "data": {
      "image/png": "[encoded data removed]",
      "text/plain": [
       "<Figure size 864x288 with 4 Axes>"
      ]
     },
     "metadata": {
      "needs_background": "light"
     },
     "output_type": "display_data"
    }
   ],
   "source": [
    "from matplotlib import pyplot as plt\n",
    "import numpy as np\n",
    "plt.rcParams['figure.figsize'] = [12, 4]\n",
    "\n",
    "# define the losses for a target of y=1\n",
    "losses = {\n",
    "    'Hinge' : lambda f: np.maximum(1 - f, 0),\n",
    "    'L2': lambda f: (1-f)**2,\n",
    "    'Logistic': lambda f: np.log(1+np.exp(-2*f)),\n",
    "    'Exponential': lambda f: np.exp(-f)\n",
    "}\n",
    "\n",
    "# plot them\n",
    "f = np.linspace(0, 2)\n",
    "fig, axes = plt.subplots(2,2)\n",
    "for ax, (name, loss) in zip(axes.flatten(), losses.items()):\n",
    "    ax.plot(f, loss(f))\n",
    "    ax.set_title('%s Loss' % name)\n",
    "    ax.set_xlabel('Prediction f')\n",
    "    ax.set_ylabel('L(y=1,f)')\n",
    "    ax.set_ylim([0,1])\n",
    "plt.tight_layout()"
   ]
  },
  {
   "cell_type": "markdown",
   "metadata": {
    "slideshow": {
     "slide_type": "slide"
    }
   },
   "source": [
    "To summarize what we have seen for additive models:\n",
    "* Additive models have the form\n",
    "$$ f(x) = \\sum_{t=1}^T \\alpha_t g(x; \\phi_t). $$\n",
    "* These models can be fit using the forward stagewise additive approach.\n",
    "* This reproduces Adaboost (when using exponential loss) and can be used to derive new boosting-type algorithms that optimize a wide range of objectives that are more robust to outliers and extend beyond classification."
   ]
  },
  {
   "cell_type": "markdown",
   "metadata": {
    "slideshow": {
     "slide_type": "slide"
    }
   },
   "source": [
    "# 16.6. Gradient Boosting\n",
    "\n",
    "We are now going to see another way of deriving boosting algorithms that is inspired by gradient descent."
   ]
  },
  {
   "cell_type": "markdown",
   "metadata": {
    "slideshow": {
     "slide_type": "skip"
    }
   },
   "source": [
    "## 16.6.1. Limitations of Forward Stagewise Additive Modeling\n",
    "\n",
    "Forward stagewise additive modeling is not without limitations.\n",
    "* There may exist other losses for which it is complex to derive boosting-type weight update rules.\n",
    "* At each step, we may need to solve a costly optimization problem over $\\phi_t$.\n",
    "* Optimizing each $\\phi_t$ greedily may cause us to overfit."
   ]
  },
  {
   "cell_type": "markdown",
   "metadata": {
    "slideshow": {
     "slide_type": "slide"
    }
   },
   "source": [
    "## 16.6.2. Motivating Gradient Boosting\n",
    "\n",
    "Let's start to motivate gradient boosting by taking a new lens to the boosting algorithms we saw above.\n",
    "\n",
    "Consider, for example, L2Boost, which optimizes the L2 loss\n",
    "$$ L(y, f) = \\frac{1}{2}(y-f)^2. $$"
   ]
  },
  {
   "cell_type": "markdown",
   "metadata": {
    "slideshow": {
     "slide_type": "fragment"
    }
   },
   "source": [
    "At step $t,$ we minimize\n",
    "$$\\sum_{i=1}^n (r^{(i)}_t - g(x^{(i)}; \\phi))^2, $$\n",
    "where $r^{(i)}_t = y^{(i)} - f_{t-1}(x^{(i)})$ is the residual from the model at time $t-1$."
   ]
  },
  {
   "cell_type": "markdown",
   "metadata": {
    "slideshow": {
     "slide_type": "subslide"
    }
   },
   "source": [
    "Observe that the residual is also the derivative of the $L2$ loss \n",
    "$$\\frac{1}{2}(y^{(i)} - f_{t-1}(x^{(i)}))^2$$\n",
    "with respect to $f$ at $f_{t-1}(x^{(i)})$:\n",
    "$$r^{(i)}_t = \\frac{\\partial L(y^{(i)}, f)}{\\partial f} \\bigg\\rvert_{f = f_{t-1}(x)}$$"
   ]
  },
  {
   "cell_type": "markdown",
   "metadata": {
    "slideshow": {
     "slide_type": "subslide"
    }
   },
   "source": [
    "Thus, at step $t,$ we are minimizing\n",
    "$$\\sum_{i=1}^n \\left( \\underbrace{\\left(y^{(i)} - f_{t-1}(x^{(i)})\\right)}_\\text{derivative of $L$ at $f_{t-1}(x^{(i)})$} - g(x^{(i)}; \\phi_t)\\right)^2. $$\n",
    "\n",
    "That is, we are trying to select the parameters $\\phi_t$ that are closest to the residuals, which we are now viewing as the gradient with respect to $f_{t-1}(x^{(i)})$. "
   ]
  },
  {
   "cell_type": "markdown",
   "metadata": {
    "slideshow": {
     "slide_type": "fragment"
    }
   },
   "source": [
    "In the coming sections, we will try to explain why in L2Boost we are fitting the derivatives of the L2 loss?"
   ]
  },
  {
   "cell_type": "markdown",
   "metadata": {
    "slideshow": {
     "slide_type": "slide"
    }
   },
   "source": [
    "## 16.6.3. Revisiting Supervised Learning\n",
    "\n",
    "Let's first recap classical supervised learning, and then contrast it against the gradient boosting approach to which we are building up."
   ]
  },
  {
   "cell_type": "markdown",
   "metadata": {
    "slideshow": {
     "slide_type": "fragment"
    }
   },
   "source": [
    "### 16.6.3.1. Supervised Learning: The Model\n",
    "\n",
    "Recall that a machine learning model is a function\n",
    "$$ f_\\theta : \\mathcal{X} \\to \\mathcal{Y} $$\n",
    "that maps inputs $x \\in \\mathcal{X}$ to targets $y \\in \\mathcal{Y}$. \n",
    "The model has a $d$-dimensional set of parameters $\\theta$:\n",
    "$$\\theta = (\\theta_1, \\theta_2, ..., \\theta_d). $$"
   ]
  },
  {
   "cell_type": "markdown",
   "metadata": {
    "slideshow": {
     "slide_type": "subslide"
    }
   },
   "source": [
    "### 16.6.3.2. Supervised Learning: The Learning Objective\n",
    "\n",
    "Intuitively, $f_\\theta$ should perform well in expectation on new data $x, y$ sampled from the data distribution $\\mathbb{P}$:\n",
    "\n",
    "$$\n",
    "J (\\theta) = \\mathbb{E}_{(x, y)\\sim \\mathbb{P}} \\left[ L\\left( y, f_\\theta( x \\right)) \\right] \\text{ is \"good\"}.\n",
    "$$\n",
    "\n",
    "Here, $L : \\mathcal{X}\\times\\mathcal{Y} \\to \\mathbb{R}$ is a performance metric and we take its expectation or average over all the possible samples $ x, y$ from $\\mathbb{P}$."
   ]
  },
  {
   "cell_type": "markdown",
   "metadata": {
    "slideshow": {
     "slide_type": "fragment"
    }
   },
   "source": [
    "Recall that formally, an expectation $\\mathbb{E}_{x\\sim {P}} f(x)$ is $\\sum_{x \\in \\mathcal{X}} f(x) P(x)$ if $x$ is discrete and $\\int_{x \\in \\mathcal{X}} f(x) P(x) dx$ if $x$ is continuous."
   ]
  },
  {
   "cell_type": "markdown",
   "metadata": {
    "slideshow": {
     "slide_type": "subslide"
    }
   },
   "source": [
    "Intuitively,\n",
    "$$J(\\theta) = \\mathbb{E}_{(x, y)\\sim \\mathbb{P}} \\left[ L\\left( y, f_\\theta( x) \\right) \\right]\n",
    "= \\sum_{x \\in \\mathcal{X}} \\sum_{y \\in \\mathcal{Y}} L\\left(y, f_\\theta(x) \\right) \\mathbb{P}(x, y)\n",
    "$$\n",
    "is the performance on an *infinite-sized* holdout set, where we have sampled every possible point.\n"
   ]
  },
  {
   "cell_type": "markdown",
   "metadata": {
    "slideshow": {
     "slide_type": "subslide"
    }
   },
   "source": [
    "### 16.6.3.3. Supervised Learning: The Optimizer (Gradient Descent)\n",
    "\n",
    "The gradient $\\nabla J(\\theta)$ is the $d$-dimensional vector of partial derivatives:\n",
    "\n",
    "$$ \\nabla J (\\theta) = \\begin{bmatrix}\n",
    "\\frac{\\partial J(\\theta)}{\\partial \\theta_1} \\\\\n",
    "\\frac{\\partial J(\\theta)}{\\partial \\theta_2} \\\\\n",
    "\\vdots \\\\\n",
    "\\frac{\\partial J(\\theta)}{\\partial \\theta_d}\n",
    "\\end{bmatrix}.$$\n",
    "\n",
    "The $j$-th entry of the vector $\\nabla J (\\theta)$ is the partial derivative $\\frac{\\partial J(\\theta)}{\\partial \\theta_j}$ of $J$ with respect to the $j$-th component of $\\theta$."
   ]
  },
  {
   "cell_type": "markdown",
   "metadata": {
    "slideshow": {
     "slide_type": "subslide"
    }
   },
   "source": [
    "We can optimize $J(\\theta)$ using gradient descent via the usual update rule:\n",
    "$$\\theta_t \\gets \\theta_{t-1} - \\alpha_t \\nabla J(\\theta_{t-1}).$$"
   ]
  },
  {
   "cell_type": "markdown",
   "metadata": {
    "slideshow": {
     "slide_type": "fragment"
    }
   },
   "source": [
    "However, in practice, we cannot measure\n",
    "$$\\nabla J(\\theta) = \\mathbb{E}_{( x, y)\\sim \\mathbb{P}} \\left[ \\nabla L\\left( y, f_\\theta( x) \\right) \\right]$$\n",
    "on infinite data. "
   ]
  },
  {
   "cell_type": "markdown",
   "metadata": {
    "slideshow": {
     "slide_type": "fragment"
    }
   },
   "source": [
    "We substitute $\\nabla J(\\theta)$ with an approximation $\\hat \\nabla J(\\theta)$ measured on a dataset $\\mathcal{D}$ sampled from $\\mathbb{P}$:\n",
    "$$\n",
    "\\hat \\nabla J (\\theta) = \\frac{1}{m} \\sum_{i=1}^m \\nabla L\\left( y^{(i)}, f_\\theta( x^{(i)}) \\right).\n",
    "$$\n",
    "If the number of IID samples $m$ is large, this approximation holds (we call this a Monte Carlo approximation)."
   ]
  },
  {
   "cell_type": "markdown",
   "metadata": {
    "slideshow": {
     "slide_type": "slide"
    }
   },
   "source": [
    "## 16.6.4. Supervised Learning Over Functions\n",
    "\n",
    "Intuitively, the gradient boosting algorithm asks, \"what if instead of optimizing over the finite-dimensional parameters $\\theta \\in \\mathbb{R}^d,$ we try optimizing directly over infinite-dimensional functions?\""
   ]
  },
  {
   "cell_type": "markdown",
   "metadata": {
    "slideshow": {
     "slide_type": "subslide"
    }
   },
   "source": [
    "But what do we mean by \"infinite-dimensional functions?\"\n",
    "Letting our model space be the (unrestricted) set of functions $f: \\mathcal{X} \\to \\mathcal{Y},$ each function is an infinite-dimensional *vector* indexed by $x \\in \\mathcal{X}$:\n",
    "$$ f = \\begin{bmatrix}\n",
    "\\vdots \\\\\n",
    "f(x) \\\\\n",
    "\\vdots\n",
    "\\end{bmatrix}.$$\n",
    "The $x$-th component of the vector $f$ is $f(x)$.\n",
    "So rather than uniquely characterizing a function by some finite dimensional vector of parameters, a point in function space can be uniquely characterized by the values that it takes on every possible input, of which there can be infinitely many.\n",
    "It's as if we choose infinite parameters $\\theta=(..., f(x), ...)$ that specify function values, and we optimize over that."
   ]
  },
  {
   "cell_type": "markdown",
   "metadata": {
    "slideshow": {
     "slide_type": "subslide"
    }
   },
   "source": [
    "#### The Learning Objective\n",
    "\n",
    "Our learning objective $J(f)$ is now defined over $f$.\n",
    "Although the form of the objective will be equivalent to the standard supervised learning setup we recalled above, we can think of optimizing $J$ over a \"very high-dimensional\" (potentially infinite) vector of \"parameters\" $f$."
   ]
  },
  {
   "cell_type": "markdown",
   "metadata": {
    "slideshow": {
     "slide_type": "fragment"
    }
   },
   "source": [
    "Keep in mind that $f$ should perform well in expectation on new data $x, y$ sampled from the data distribution $\\mathbb{P}$:\n",
    "\n",
    "$$\n",
    "J (f) = \\mathbb{E}_{( x,  y)\\sim \\mathbb{P}} \\left[ L\\left( y, f( x \\right)) \\right] \\text{ is \"good\"}.\n",
    "$$"
   ]
  },
  {
   "cell_type": "markdown",
   "metadata": {
    "slideshow": {
     "slide_type": "subslide"
    }
   },
   "source": [
    "#### Functional Gradients\n",
    "\n",
    "We would like to again optimize $J(f)$ using gradient descent:\n",
    "\n",
    "$$\\min_f J(f) = \\min_f \\mathbb{E}_{(x, y)\\sim \\mathbb{P}} \\left[ L\\left(y, f(x \\right)) \\right].$$\n",
    "\n",
    "We may define the functional gradient of this loss at $f$ as an infinite-dimensional vector $\\nabla J(f) : \\mathcal{X} \\to \\mathbb{R}$ \"indexed\" by $x$:\n",
    "$$ \\nabla J (f) = \\begin{bmatrix}\n",
    "\\vdots \\\\\n",
    "\\frac{\\partial J(f)}{\\partial f(x)} \\\\\n",
    "\\vdots \\\\\n",
    "\\end{bmatrix}.$$"
   ]
  },
  {
   "cell_type": "markdown",
   "metadata": {
    "slideshow": {
     "slide_type": "subslide"
    }
   },
   "source": [
    "Let's compare the parametric and the functional gradients."
   ]
  },
  {
   "cell_type": "markdown",
   "metadata": {
    "slideshow": {
     "slide_type": "fragment"
    }
   },
   "source": [
    "* The parametric gradient $\\nabla J(\\theta) \\in \\mathbb{R}^d$ is a vector of the same shape as $\\theta  \\in \\mathbb{R}^d$. Both $\\nabla J(\\theta)$ and $\\theta$ are indexed by $j=1,2,...,d$."
   ]
  },
  {
   "cell_type": "markdown",
   "metadata": {
    "slideshow": {
     "slide_type": "fragment"
    }
   },
   "source": [
    "* The functional gradient $\\nabla J(f) : \\mathcal{X} \\to \\mathbb{R}$ is a vector of the same shape as $f : \\mathcal{X} \\to \\mathbb{R}$. Both $\\nabla J(f)$ and $f$ are \"indexed\" by $x \\in \\mathcal{X}$."
   ]
  },
  {
   "cell_type": "markdown",
   "metadata": {
    "slideshow": {
     "slide_type": "fragment"
    }
   },
   "source": [
    "* The parametric gradient $\\nabla J(\\theta)$ at $\\theta = \\theta_0$ tells us how to modify $\\theta_0$ in order to further decrease the objective $J$ starting from $J(\\theta_0)$."
   ]
  },
  {
   "cell_type": "markdown",
   "metadata": {
    "slideshow": {
     "slide_type": "fragment"
    }
   },
   "source": [
    "* The functional gradient $\\nabla J(f)$ at $f = f_0$ tells us how to modify $f_0$ in order to further decrease the objective $J$ starting from $J(f_0)$.\n",
    "We can think of this as the functional gradient telling us how to change the output of $f_0$ for each possible input in order to better optimize our objective."
   ]
  },
  {
   "cell_type": "markdown",
   "metadata": {
    "slideshow": {
     "slide_type": "subslide"
    }
   },
   "source": [
    "This is best understood via a picture.\n",
    "\n",
    "<center><img width=100% src=\"../slides/img/functional_gradient.png\"></center>"
   ]
  },
  {
   "cell_type": "markdown",
   "metadata": {
    "slideshow": {
     "slide_type": "subslide"
    }
   },
   "source": [
    "The functional gradient is a function that tells us how much we \"move\" $f(x)$ at each point $x$.\n",
    "Given a good step size, the resulting new function will be closer to minimizing $J$."
   ]
  },
  {
   "cell_type": "markdown",
   "metadata": {
    "slideshow": {
     "slide_type": "subslide"
    }
   },
   "source": [
    "Recall that we are taking the perspective that $f$ is a vector indexed by $x.$\n",
    "Thus the $x$-th entry of the vector $\\nabla J (f)$ is the partial derivative $\\frac{\\partial J(f)}{\\partial f(x)}$ of $J$ with respect to $f(x)$, the $x$-th component of $f$.\n",
    "$$\n",
    "\\frac{\\partial J(f)}{\\partial f(x)} = \\frac{\\partial}{\\partial f(x)} \\left( \\mathbb{E}_{( x,  y)\\sim \\mathbb{P}} \\left[ L\\left( y, f( x \\right)) \\right] \\right) = \\frac{\\partial L(y, f)}{\\partial f} \\bigg\\rvert_{f=f(x)}\n",
    "$$"
   ]
  },
  {
   "cell_type": "markdown",
   "metadata": {
    "slideshow": {
     "slide_type": "fragment"
    }
   },
   "source": [
    "So the functional gradient is\n",
    "$$ \\nabla J (f) = \\begin{bmatrix}\n",
    "\\vdots \\\\\n",
    "\\frac{\\partial L(y, f)}{\\partial f} \\bigg\\rvert_{f=f(x)} \\\\\n",
    "\\vdots \\\\\n",
    "\\end{bmatrix}.$$\n",
    "This is an infinite-dimensional vector indexed by $x$."
   ]
  },
  {
   "cell_type": "markdown",
   "metadata": {
    "slideshow": {
     "slide_type": "subslide"
    }
   },
   "source": [
    "#### Functional Gradient Descent\n",
    "\n",
    "Previously, we optimized $J(\\theta)$ using gradient descent via the update rule:\n",
    "$$\\theta_t \\gets \\theta_{t-1} - \\alpha_t \\nabla J(\\theta_{t-1})$$"
   ]
  },
  {
   "cell_type": "markdown",
   "metadata": {
    "slideshow": {
     "slide_type": "fragment"
    }
   },
   "source": [
    "We can now optimize our objective using gradient descent in functional space via the same update:\n",
    "$$f_t \\gets f_{t-1} - \\alpha_t \\nabla J(f_{t-1}).$$"
   ]
  },
  {
   "cell_type": "markdown",
   "metadata": {
    "slideshow": {
     "slide_type": "fragment"
    }
   },
   "source": [
    "After $T$ steps of $f_t \\gets f_{t-1} - \\alpha_t \\nabla J(f_{t-1})$, we get a model of the form\n",
    "$$f_T = f_0-\\sum_{t=0}^{T-1} \\alpha_t \\nabla J(f_{t})$$"
   ]
  },
  {
   "cell_type": "markdown",
   "metadata": {
    "slideshow": {
     "slide_type": "slide"
    }
   },
   "source": [
    "#### The Challenge of Supervised Learning Over Functions\n",
    "\n",
    "After $T$ steps of $f_t \\gets f_{t-1} - \\alpha_t \\nabla J(f_{t-1})$, we get a model of the form\n",
    "$$f_T = f_0-\\sum_{t=0}^{T-1} \\alpha_t \\nabla J(f_{t})$$"
   ]
  },
  {
   "cell_type": "markdown",
   "metadata": {
    "slideshow": {
     "slide_type": "fragment"
    }
   },
   "source": [
    "Recall that each $\\nabla J(f_{t})$ is a function of $x.$\n",
    "Therefore $f_T$ is a function of $x$ as well, and as a function that is found through gradient descent, $f_T$ will minimize $J.$"
   ]
  },
  {
   "cell_type": "markdown",
   "metadata": {
    "slideshow": {
     "slide_type": "subslide"
    }
   },
   "source": [
    "But recall as well that in the standard supervised learning approach that we reviewed above, we were not able to compute $\\nabla J(\\theta) = \\mathbb{E}_{( x, y)\\sim \\mathbb{P}} \\left[ \\nabla L\\left( y, f_\\theta( x) \\right) \\right]$\n",
    "on infinite data and instead we used:\n",
    "$$\n",
    "\\hat \\nabla J (\\theta) = \\frac{1}{m} \\sum_{i=1}^m \\nabla L\\left( y^{(i)}, f_\\theta( x^{(i)}) \\right).\n",
    "$$"
   ]
  },
  {
   "cell_type": "markdown",
   "metadata": {
    "slideshow": {
     "slide_type": "fragment"
    }
   },
   "source": [
    "In the case of functional gradients, we also need to find an approximation $\\hat \\nabla J(f)$:\n",
    "$$\n",
    "\\nabla J(f) (x) = \\frac{\\partial J(f)}{\\partial f(x)} = \\frac{\\partial L(y, f)}{\\partial f} \\bigg\\rvert_{f=f(x)}\n",
    "$$"
   ]
  },
  {
   "cell_type": "markdown",
   "metadata": {
    "slideshow": {
     "slide_type": "subslide"
    }
   },
   "source": [
    "This is more challenging than before:\n",
    "* $\\nabla J(f) (x) = \\frac{\\partial L(y, f)}{\\partial f} \\bigg\\rvert_{f=f(x)}$ is not an expectation so we can't approximate it with an average in the data."
   ]
  },
  {
   "cell_type": "markdown",
   "metadata": {
    "slideshow": {
     "slide_type": "fragment"
    }
   },
   "source": [
    "* $\\nabla J (f)$ is a function that we need to \"learn\" from $\\mathcal{D}$. (We will use supervised learning for this!)"
   ]
  },
  {
   "cell_type": "markdown",
   "metadata": {
    "slideshow": {
     "slide_type": "skip"
    }
   },
   "source": [
    "* We cannot represent $\\nabla J(f)$ because it's a general function.\n",
    "* We cannot measure $\\nabla J(f)$ at each $x$ (only at $n$ training points).\n",
    "* Even if we could, the problem would be too unconstrained and generally intractable to optimize."
   ]
  },
  {
   "cell_type": "markdown",
   "metadata": {
    "slideshow": {
     "slide_type": "slide"
    }
   },
   "source": [
    "## 16.6.5. Modeling Functional Gradients\n",
    "\n",
    "We will address the above problem by learning a *model* of gradients."
   ]
  },
  {
   "cell_type": "markdown",
   "metadata": {
    "slideshow": {
     "slide_type": "fragment"
    }
   },
   "source": [
    "* In supervised learning, we only have access to $n$ data points that describe the true $\\mathcal{X} \\to \\mathcal{Y}$ mapping (call it $f^*$).\n",
    "* We learn a *model* $f_\\theta:\\mathcal{X} \\to \\mathcal{Y}$ from a function class $\\mathcal{M}$ to approximate $f^*$.\n",
    "* The model extrapolates beyond the training set. Given enough datapoints, $f_\\theta$ learns a true mapping."
   ]
  },
  {
   "cell_type": "markdown",
   "metadata": {
    "slideshow": {
     "slide_type": "subslide"
    }
   },
   "source": [
    "We can apply the same idea to gradients, learning $\\nabla J(f).$ \n",
    "* We search for a model $g_{\\theta_t} : \\mathcal{X} \\to R$ within a more restricted function class $\\mathcal{M}$ that can approximate the functional gradient $\\nabla J(f_t)$.\n",
    "\\begin{align*}\n",
    "g_{\\theta_t} \\in \\mathcal{M} & & g_{\\theta_t} \\approx \\nabla J(f_t)\n",
    "\\end{align*}\n",
    "* The model extrapolates beyond the training set. Given enough datapoints, $g_{\\theta_t}$ learns $\\nabla J(f_t)$.\n",
    "* Think of $g_{\\theta_t}$ as the *projection* of $\\nabla J(f_t)$ onto the function class $\\mathcal{M}.$"
   ]
  },
  {
   "cell_type": "markdown",
   "metadata": {
    "slideshow": {
     "slide_type": "fragment"
    }
   },
   "source": [
    "Functional descent will then have the form:\n",
    "$$\\underbrace{f_t(x)}_\\text{new function} \\gets \\underbrace{f_{t-1}(x) - \\alpha g_{\\theta_{t-1}}(x)}_\\text{old function - gradient step}.$$\n",
    "If $g$ generalizes, this approximates $f_t \\gets f_{t-1} - \\alpha \\nabla J(f_{t-1}).$"
   ]
  },
  {
   "cell_type": "markdown",
   "metadata": {
    "slideshow": {
     "slide_type": "slide"
    }
   },
   "source": [
    "## 16.6.6. Fitting Functional Gradients\n",
    "\n",
    "In practice, what does it mean to approximate a functional gradient $g \\approx \\nabla J(f)m$?\n",
    "We can use standard supervised learning. Suppose we have a fixed function $f$ and we want to estimate the functional gradient of $L$\n",
    "$$\\frac{\\partial L(\\text{y}, f)}{\\partial f} \\bigg\\rvert_{f = f(x)}.$$\n",
    "at any $x \\in \\mathcal{X}$"
   ]
  },
  {
   "cell_type": "markdown",
   "metadata": {
    "slideshow": {
     "slide_type": "subslide"
    }
   },
   "source": [
    "**Step 1:** We define a loss $L_g$ (e.g., L2 loss) to measure how well $g \\approx \\nabla J(f)$."
   ]
  },
  {
   "cell_type": "markdown",
   "metadata": {
    "slideshow": {
     "slide_type": "fragment"
    }
   },
   "source": [
    "**Step 2:** We compute $\\nabla J(f)$ on the training dataset:\n",
    "$$\\mathcal{D}_g = \\left\\{ \\left(x^{(i)}, \\underbrace{\\frac{\\partial L(y^{(i)}, f)}{\\partial f} \\bigg\\rvert_{f = f(x^{(i)})}}_\\text{functional derivative $\\nabla_f J(f)_i$ at $f(x^{(i)})$} \\right), i=1,2,\\ldots,n \\right\\} $$"
   ]
  },
  {
   "cell_type": "markdown",
   "metadata": {
    "slideshow": {
     "slide_type": "fragment"
    }
   },
   "source": [
    "**Step 3:** We train a model $g : \\mathcal{X} \\to \\mathbb{R}$ on $\\mathcal{D}_g$ to predict functional gradients at any $x$:\n",
    "$$ g(x) \\approx \\frac{\\partial L(\\text{y}, f)}{\\partial f} \\bigg\\rvert_{f = f_0(x)}.$$"
   ]
  },
  {
   "cell_type": "markdown",
   "metadata": {
    "slideshow": {
     "slide_type": "slide"
    }
   },
   "source": [
    "## 16.6.7. Gradient Boosting\n",
    "\n",
    "We now have the motivation and background needed to define gradient boosting.\n",
    "Gradient boosting is a procedure that performs functional gradient descent with approximate gradients.\n",
    "\n",
    "Start with $f(x) = 0$. Then, at each step $t>1$:"
   ]
  },
  {
   "cell_type": "markdown",
   "metadata": {
    "slideshow": {
     "slide_type": "fragment"
    }
   },
   "source": [
    "**Step 1:** Create a training dataset $\\mathcal{D}_g$ and fit $g_t(x^{(i)})$ using loss $L_g$:\n",
    "$$ g_t(x) \\approx \\frac{\\partial L(y, f)}{\\partial f} \\bigg\\rvert_{f = f_{t-1}(x)}.$$"
   ]
  },
  {
   "cell_type": "markdown",
   "metadata": {
    "slideshow": {
     "slide_type": "fragment"
    }
   },
   "source": [
    "**Step 2:** Take a step of gradient descent using approximate gradients with step $\\alpha_t$:\n",
    "$$f_t(x) = f_{t-1}(x) - \\alpha_t \\cdot g_t(x).$$"
   ]
  },
  {
   "cell_type": "markdown",
   "metadata": {
    "slideshow": {
     "slide_type": "slide"
    }
   },
   "source": [
    "## 16.6.8. Interpreting Gradient Boosting\n",
    "\n",
    "Notice how after $T$ steps we get an additive model of the form\n",
    "$$ f(x) = \\sum_{t=1}^T \\alpha_t g_t(x). $$\n",
    "This looks like the output of a boosting algorithm!"
   ]
  },
  {
   "cell_type": "markdown",
   "metadata": {
    "slideshow": {
     "slide_type": "fragment"
    }
   },
   "source": [
    "However, unlike before for forward stagewise additive models:\n",
    "* This works for any differentiable loss $L$.\n",
    "* It does not require any mathematical derivations for new $L$."
   ]
  },
  {
   "cell_type": "markdown",
   "metadata": {
    "slideshow": {
     "slide_type": "slide"
    }
   },
   "source": [
    "## 16.6.9. Returning to L2 Boosting\n",
    "\n",
    "To better highlight the connections between boosting and gradient boosting, let's return to the example of L2Boost, which optimizes the L2 loss\n",
    "$$ L(y, f) = \\frac{1}{2}(y-f)^2$$"
   ]
  },
  {
   "cell_type": "markdown",
   "metadata": {
    "slideshow": {
     "slide_type": "fragment"
    }
   },
   "source": [
    "At step $t,$ we minimize\n",
    "$$\\sum_{i=1}^n (r^{(i)}_t - g(x^{(i)}; \\phi))^2, $$\n",
    "where $r^{(i)}_t = y^{(i)} - f_{t-1}(x^{(i)})$ is the residual from the model at time $t-1$."
   ]
  },
  {
   "cell_type": "markdown",
   "metadata": {
    "slideshow": {
     "slide_type": "subslide"
    }
   },
   "source": [
    "Observe that the residual\n",
    "$$r^{(i)}_t = y^{(i)} - f(x^{(i)})_{t-1}$$\n",
    "is also the gradient of the $L2$ loss with respect to $f$ at $f(x^{(i)})$\n",
    "$$r^{(i)}_t = \\frac{\\partial L(y^{(i)}, f)}{\\partial f} \\bigg\\rvert_{f = f_{t-1}(x)}$$\n",
    "\n",
    "This answers our question from above as to \"why in L2Boost we are fitting the derivatives of the L2 loss?\"\n",
    "The reason is that we are finding an approximation $g(\\cdot; \\phi)$ to $\\nabla J(f)$ and to do so we are minimize the square loss between $\\nabla J(f)(x^{(i)}) = r_t^{(i)}$ and $g(x^{(i)}; \\phi)$ at our $n$ training points."
   ]
  },
  {
   "cell_type": "markdown",
   "metadata": {
    "slideshow": {
     "slide_type": "fragment"
    }
   },
   "source": [
    "Many boosting methods are special cases of gradient boosting in this way."
   ]
  },
  {
   "cell_type": "markdown",
   "metadata": {
    "slideshow": {
     "slide_type": "skip"
    }
   },
   "source": [
    "## 16.6.10. Losses for Additive Models vs. Gradient Boosting\n",
    "\n",
    "We have seen several losses that can be used with the forward stagewise additive approach.\n",
    "* The exponential loss $L(y,f) = \\exp(-yf)$ gives us Adaboost.\n",
    "* The log-loss $L(y,f) = \\log(1+\\exp(-2yf))$ is more robust to outliers.\n",
    "* The squared loss $L(y,f) = (y-f)^2$ can be used for regression."
   ]
  },
  {
   "cell_type": "markdown",
   "metadata": {
    "slideshow": {
     "slide_type": "fragment"
    }
   },
   "source": [
    "Gradient boosting can optimize a wider range of losses.\n",
    "\n",
    "* Regression losses:\n",
    "    * L2, L1, and Huber (L1/L2 interpolation) losses.\n",
    "    * Quantile loss: estimates quantiles of distribution of $p(y|x)$.\n",
    "* Classification losses:\n",
    "    * Log-loss, softmax loss, exponential loss, negative binomial likelihood, etc."
   ]
  },
  {
   "cell_type": "markdown",
   "metadata": {
    "slideshow": {
     "slide_type": "slide"
    }
   },
   "source": [
    "When using gradient boosting these additional facts are useful:\n",
    "* We most often use small decision trees as the learner $g_t$. Thus, input preprocessing is minimal.\n",
    "* We can regularize by controlling tree size, step size $\\alpha$, and using *early stopping*.\n",
    "* We can scale-up gradient boosting to big data by sub-sampling data at each iteration (a form of *stochastic* gradient descent)."
   ]
  },
  {
   "cell_type": "markdown",
   "metadata": {
    "slideshow": {
     "slide_type": "slide"
    }
   },
   "source": [
    "## 16.6.11. Algorithm: Gradient Boosting\n",
    "\n",
    "As with the other algorithms we've seen, we can now present the algorithmic components for gradient boosting.\n",
    "\n",
    "* __Type__: Supervised learning (classification and regression).\n",
    "* __Model family__: Ensembles of weak learners (often decision trees).\n",
    "* __Objective function__: Any differentiable loss function.\n",
    "* __Optimizer__: Gradient descent in functional space. Weak learner uses its own optimizer.\n",
    "* __Probabilistic interpretation__: None in general; certain losses may have one."
   ]
  },
  {
   "cell_type": "markdown",
   "metadata": {
    "slideshow": {
     "slide_type": "slide"
    }
   },
   "source": [
    "## 16.6.12. Gradient Boosting: An Example\n",
    "\n",
    "Let's now try running Gradient Boosted Decision Trees (GBDT) on a small regression dataset."
   ]
  },
  {
   "cell_type": "markdown",
   "metadata": {
    "slideshow": {
     "slide_type": "subslide"
    }
   },
   "source": [
    "First we create the dataset. Our values come from a non-linear function $f(x)$ plus some noise."
   ]
  },
  {
   "cell_type": "code",
   "execution_count": 7,
   "metadata": {
    "slideshow": {
     "slide_type": "fragment"
    }
   },
   "outputs": [
    {
     "data": {
      "image/png": "[encoded data removed]",
      "text/plain": [
       "<Figure size 864x288 with 1 Axes>"
      ]
     },
     "metadata": {
      "needs_background": "light"
     },
     "output_type": "display_data"
    }
   ],
   "source": [
    "# https://scikit-learn.org/stable/auto_examples/ensemble/plot_gradient_boosting_quantile.html\n",
    "X = np.atleast_2d(np.random.uniform(0, 10.0, size=100)).T\n",
    "X = X.astype(np.float32)\n",
    "\n",
    "# Create dataset\n",
    "f = lambda x: x * np.sin(x)\n",
    "y = f(X).ravel()\n",
    "dy = 1.5 + 1.0 * np.random.random(y.shape)\n",
    "noise = np.random.normal(0, dy)\n",
    "y += noise\n",
    "\n",
    "# Visualize it\n",
    "xx = np.atleast_2d(np.linspace(0, 10, 1000)).T\n",
    "plt.plot(xx, f(xx), 'g:', label=r'$f(x) = x\\,\\sin(x)$')\n",
    "plt.plot(X, y, 'b.', markersize=10, label=u'Observations');"
   ]
  },
  {
   "cell_type": "markdown",
   "metadata": {
    "slideshow": {
     "slide_type": "subslide"
    }
   },
   "source": [
    "Next, we train a GBDT regressor, using the `GradientBoostingRegressor` class from `sklearn`."
   ]
  },
  {
   "cell_type": "code",
   "execution_count": 8,
   "metadata": {
    "slideshow": {
     "slide_type": "fragment"
    }
   },
   "outputs": [
    {
     "data": {
      "text/plain": [
       "GradientBoostingRegressor(alpha=0.95, min_samples_leaf=9, min_samples_split=9,\n",
       "                          n_estimators=250)"
      ]
     },
     "execution_count": 8,
     "metadata": {},
     "output_type": "execute_result"
    }
   ],
   "source": [
    "from sklearn.ensemble import GradientBoostingRegressor\n",
    "\n",
    "alpha = 0.95\n",
    "clf = GradientBoostingRegressor(loss='squared_error', alpha=alpha,\n",
    "                                n_estimators=250, max_depth=3,\n",
    "                                learning_rate=.1, min_samples_leaf=9,\n",
    "                                min_samples_split=9)\n",
    "clf.fit(X, y)"
   ]
  },
  {
   "cell_type": "markdown",
   "metadata": {
    "slideshow": {
     "slide_type": "subslide"
    }
   },
   "source": [
    "We may now visualize its predictions"
   ]
  },
  {
   "cell_type": "code",
   "execution_count": 9,
   "metadata": {
    "slideshow": {
     "slide_type": "fragment"
    }
   },
   "outputs": [
    {
     "data": {
      "image/png": "[encoded data removed]",
      "text/plain": [
       "<Figure size 864x288 with 1 Axes>"
      ]
     },
     "metadata": {
      "needs_background": "light"
     },
     "output_type": "display_data"
    }
   ],
   "source": [
    "y_pred = clf.predict(xx)\n",
    "plt.plot(xx, f(xx), 'g:', label=r'$f(x) = x\\,\\sin(x)$')\n",
    "plt.plot(X, y, 'b.', markersize=10, label=u'Observations')\n",
    "plt.plot(xx, y_pred, 'r-', label=u'Prediction');"
   ]
  },
  {
   "cell_type": "markdown",
   "metadata": {
    "slideshow": {
     "slide_type": "slide"
    }
   },
   "source": [
    "## 16.6.14. Pros and Cons of Gradient Boosting\n",
    "\n",
    "Gradient boosted decision trees (GBTs) are one of the best off-the-shelf ML algorithms that exist, often on par with deep learning.\n",
    "* Attain state-of-the-art performance. GBTs have won the most Kaggle competitions. \n",
    "* Require little data preprocessing and tuning.\n",
    "* Work with any objective, including probabilistic ones.\n",
    "\n",
    "Their main limitations are:\n",
    "* GBTs don't work with unstructured data like images, audio.\n",
    "* Implementations are not as flexible as modern neural net libraries."
   ]
  }
 ],
 "metadata": {
  "accelerator": "GPU",
  "celltoolbar": "Slideshow",
  "colab": {
   "collapsed_sections": [],
   "name": "neural-ode.ipynb",
   "provenance": []
  },
  "kernelspec": {
   "display_name": "Python 3",
   "language": "python",
   "name": "python3"
  },
  "language_info": {
   "codemirror_mode": {
    "name": "ipython",
    "version": 3
   },
   "file_extension": ".py",
   "mimetype": "text/x-python",
   "name": "python",
   "nbconvert_exporter": "python",
   "pygments_lexer": "ipython3",
   "version": "3.7.13"
  },
  "rise": {
   "controlsTutorial": false,
   "height": 900,
   "help": false,
   "margin": 0,
   "maxScale": 2,
   "minScale": 0.2,
   "progress": true,
   "scroll": true,
   "theme": "simple",
   "width": 1200
  }
 },
 "nbformat": 4,
 "nbformat_minor": 1
}
